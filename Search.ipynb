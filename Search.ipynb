{
 "cells": [
  {
   "cell_type": "code",
   "execution_count": 184,
   "metadata": {},
   "outputs": [],
   "source": [
    "import requests\n",
    "from bs4 import BeautifulSoup\n",
    "import re\n",
    "import time\n",
    "import csv\n",
    "\n",
    "#１ページ目\n",
    "base_url = 'https://joko-bus.com/fromto/result/?p=1&from_type=B&from_no=1105&to_type=B&to_no=1001&week=1&nx=2021-04-01&p='\n",
    "num = 1\n",
    "i = 0\n",
    "\n",
    "# csvの設定\n",
    "file = open('NewBusstime.csv', 'w')\n",
    "w = csv.writer(file)\n",
    "    \n",
    "while num <= 4:\n",
    "    url = base_url + str(num)\n",
    "    response = requests.get(url)\n",
    "    soup = BeautifulSoup(response.text, \"html.parser\")\n",
    "\n",
    "    times_to = soup.find_all('td', class_='time ta_right')\n",
    "    times_from = soup.find_all('td', class_='time ta_left')\n",
    "\n",
    "    for time_to ,time_from in zip(times_to, times_from):\n",
    "        if time_to.text[0] != '文' and time_to.text[0] != '▲':\n",
    "#                 print(time_to.text, time_from.text)\n",
    "            w.writerows([[i,time_to.text, time_from.text]])\n",
    "        i += 1\n",
    "    num += 1\n",
    "    time.sleep(3)\n",
    "file.close()\n",
    "    "
   ]
  },
  {
   "cell_type": "code",
   "execution_count": 181,
   "metadata": {},
   "outputs": [],
   "source": [
    "import csv\n",
    "\n",
    "file = open('new.csv', 'w')    #既存でないファイル名を作成してください\n",
    "\n",
    "\n",
    "w.writerow([\"青森\",\"apple\",120])\n",
    "\n",
    "w.writerows([[\"山形\",\"cherry\",50], [\"栃木\",\"strawberry\",90]])\n",
    "\n",
    "file.close()"
   ]
  },
  {
   "cell_type": "code",
   "execution_count": null,
   "metadata": {},
   "outputs": [],
   "source": []
  }
 ],
 "metadata": {
  "kernelspec": {
   "display_name": "Python 3",
   "language": "python",
   "name": "python3"
  },
  "language_info": {
   "codemirror_mode": {
    "name": "ipython",
    "version": 3
   },
   "file_extension": ".py",
   "mimetype": "text/x-python",
   "name": "python",
   "nbconvert_exporter": "python",
   "pygments_lexer": "ipython3",
   "version": "3.8.3"
  }
 },
 "nbformat": 4,
 "nbformat_minor": 4
}
